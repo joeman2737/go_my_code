{
  "nbformat": 4,
  "nbformat_minor": 0,
  "metadata": {
    "colab": {
      "name": "Untitled5.ipynb",
      "provenance": []
    },
    "kernelspec": {
      "name": "python3",
      "display_name": "Python 3"
    },
    "language_info": {
      "name": "python"
    }
  },
  "cells": [
    {
      "cell_type": "markdown",
      "metadata": {
        "id": "_w2Aiga8pi8y"
      },
      "source": [
        "Write a Python program to convert an array to an ordinary list with the same items.\n",
        "\n",
        "we can use the np.tolist() function"
      ]
    },
    {
      "cell_type": "code",
      "metadata": {
        "colab": {
          "base_uri": "https://localhost:8080/"
        },
        "id": "y3vkxGM7pVdK",
        "outputId": "a1437759-0a2a-4828-8053-09a6d648e4c9"
      },
      "source": [
        "import numpy as np\n",
        "a= np.arange(10).reshape(2,5)\n",
        "a.tolist()"
      ],
      "execution_count": null,
      "outputs": [
        {
          "output_type": "execute_result",
          "data": {
            "text/plain": [
              "[[0, 1, 2, 3, 4], [5, 6, 7, 8, 9]]"
            ]
          },
          "metadata": {},
          "execution_count": 2
        }
      ]
    },
    {
      "cell_type": "markdown",
      "metadata": {
        "id": "N_9lAWuApdnf"
      },
      "source": [
        "\n",
        "Write a NumPy program to compute the sum of the diagonal elements of a given array.\n",
        "\n",
        "Hint: Two methods to solve this problem: 1. manually(without direct function). 2. using the trace function\n",
        "\n"
      ]
    },
    {
      "cell_type": "code",
      "metadata": {
        "colab": {
          "base_uri": "https://localhost:8080/"
        },
        "id": "RRCyf5p5psWR",
        "outputId": "deb536cf-b769-4cd3-a4e5-e1d14108b215"
      },
      "source": [
        "import numpy as np\n",
        "x=np.array([[1,2],\n",
        "            [3,4]],dtype=np.float64)\n",
        "trace=np.trace(x)\n",
        "\n",
        "print(\"the sum of  the diagonal elements of a given array :\",trace)"
      ],
      "execution_count": null,
      "outputs": [
        {
          "output_type": "stream",
          "text": [
            "the sum of  the diagonal elements of a given array : 5.0\n"
          ],
          "name": "stdout"
        }
      ]
    },
    {
      "cell_type": "markdown",
      "metadata": {
        "id": "ao2Utphnpwky"
      },
      "source": [
        "\n",
        "Given an array of your choice, get all the values higher than X :\n",
        "\n",
        "if a = [[1,2],[3,5]] and x = 2 : then 3 and 5 are higher than 2."
      ]
    },
    {
      "cell_type": "code",
      "metadata": {
        "colab": {
          "base_uri": "https://localhost:8080/"
        },
        "id": "ZEmZssXlp59o",
        "outputId": "1f449e05-aa1b-4cd8-9733-8ee4183a1e73"
      },
      "source": [
        "import numpy as np\n",
        "a=np.array([[1,2],[3,5]])\n",
        "x=int (input(\"enter number :\"))\n",
        "print(\"Values bigger than\",x,\"=\",a[a>x])"
      ],
      "execution_count": null,
      "outputs": [
        {
          "output_type": "stream",
          "text": [
            "enter number :3\n",
            "Values bigger than 3 = [5]\n"
          ],
          "name": "stdout"
        }
      ]
    },
    {
      "cell_type": "markdown",
      "metadata": {
        "id": "WQ_t4tx9p6_u"
      },
      "source": [
        "\n",
        "Given two arrays A&B having the same shape.\n",
        "\n",
        "The task is to apply addition by hand: C is the new array."
      ]
    },
    {
      "cell_type": "code",
      "metadata": {
        "colab": {
          "base_uri": "https://localhost:8080/"
        },
        "id": "9_A6EwNop_bh",
        "outputId": "e41536df-2ccb-4196-f379-8b577d7526be"
      },
      "source": [
        "import numpy as np\n",
        "a=np.array([1,2,3])\n",
        "b=np.array([4,5,6])\n",
        "c=np.add (a,b)\n",
        "print(\"c =\")\n",
        "c"
      ],
      "execution_count": null,
      "outputs": [
        {
          "output_type": "stream",
          "text": [
            "c =\n"
          ],
          "name": "stdout"
        },
        {
          "output_type": "execute_result",
          "data": {
            "text/plain": [
              "array([5, 7, 9])"
            ]
          },
          "metadata": {},
          "execution_count": 24
        }
      ]
    },
    {
      "cell_type": "markdown",
      "metadata": {
        "id": "WW3MApIMqCF1"
      },
      "source": [
        "Write a NumPy program to subtract the mean of each row of a given matrix.\n",
        "\n",
        "Hint: use the mean function"
      ]
    },
    {
      "cell_type": "code",
      "metadata": {
        "colab": {
          "base_uri": "https://localhost:8080/"
        },
        "id": "kX-r2NWzqFIR",
        "outputId": "1e1b4bb4-9a03-4ccb-9369-b265ebcd7966"
      },
      "source": [
        "import numpy as np\n",
        "a=np.array([[1,2,3],[4,5,6]])\n",
        "b=np.array([[7,8,9],[10,11,12]])\n",
        "k=np.mean(a,axis=1 )\n",
        "g=np.mean(b,axis=1)\n",
        "g-k"
      ],
      "execution_count": null,
      "outputs": [
        {
          "output_type": "execute_result",
          "data": {
            "text/plain": [
              "array([6., 6.])"
            ]
          },
          "metadata": {},
          "execution_count": 29
        }
      ]
    },
    {
      "cell_type": "code",
      "metadata": {
        "id": "ykozRtWHIvP8"
      },
      "source": [
        ""
      ],
      "execution_count": null,
      "outputs": []
    },
    {
      "cell_type": "code",
      "metadata": {
        "id": "xgI6tht1IvV3"
      },
      "source": [
        ""
      ],
      "execution_count": null,
      "outputs": []
    }
  ]
}