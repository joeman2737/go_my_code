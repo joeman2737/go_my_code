{
  "nbformat": 4,
  "nbformat_minor": 0,
  "metadata": {
    "colab": {
      "name": "Untitled9.ipynb",
      "provenance": []
    },
    "kernelspec": {
      "name": "python3",
      "display_name": "Python 3"
    },
    "language_info": {
      "name": "python"
    }
  },
  "cells": [
    {
      "cell_type": "markdown",
      "metadata": {
        "id": "RSqChuttnAFM"
      },
      "source": [
        "# In this project, we will be using the time module and its sleep() function. Follow the below steps to create a countdown timer:\n",
        "\n",
        "1. Import the time module.\n",
        "2. Ask the user to input the length of the countdown in seconds.\n",
        "3. This value is sent as a parameter ‘t’ to the user-defined function countdown(). Any variable read using the input function is a string. So, convert this parameter to ‘int’ as it is of string type.\n",
        "4. In this function, a while loop runs until time becomes 0.\n",
        "5. Use divmod() to calculate the number of minutes and seconds. You can read more about it here.\n",
        "6. Now print the minutes and seconds on the screen using the variable timeformat.\n",
        "7. Using end = ‘\\r’ we force the cursor to go back to the start of the screen (carriage return) so that the next line printed will overwrite the previous one.\n",
        "8. The time.sleep() is used to make the code wait for one sec.\n",
        "9. Now decrement time so that the while loop can converge.\n",
        "10. After the completion of the loop, we will print “Fire in the hole” to signify the end of the countdown."
      ]
    },
    {
      "cell_type": "code",
      "metadata": {
        "colab": {
          "base_uri": "https://localhost:8080/"
        },
        "id": "voc0D5CXm-X6",
        "outputId": "10cad7ef-c9f7-4290-a465-ae94576e315d"
      },
      "source": [
        "import time\n",
        "def countdown(J):\n",
        "    while J:\n",
        "        mins, secs = divmod(J, 60)\n",
        "        timer = \"{:3}:{:3}\".format(mins, secs)\n",
        "        print(timer, end=\"\\r\")\n",
        "        time.sleep(1)\n",
        "        J -= 1\n",
        "    print('Fire in the hole!!')\n",
        "J = input(\"Enter the time in seconds: \")\n",
        "countdown(int(J))"
      ],
      "execution_count": 14,
      "outputs": [
        {
          "output_type": "stream",
          "name": "stdout",
          "text": [
            "Enter the time in seconds: 1\n",
            "Fire in the hole!!\n"
          ]
        }
      ]
    }
  ]
}