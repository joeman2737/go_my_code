{
  "nbformat": 4,
  "nbformat_minor": 0,
  "metadata": {
    "colab": {
      "name": "Untitled0.ipynb",
      "provenance": [],
      "collapsed_sections": []
    },
    "kernelspec": {
      "name": "python3",
      "display_name": "Python 3"
    },
    "language_info": {
      "name": "python"
    }
  },
  "cells": [
    {
      "cell_type": "markdown",
      "metadata": {
        "id": "PIMw4e3Cz422"
      },
      "source": [
        "Write a python class named Point3D defined by x, y, and z. Define a method that returns (x, y ,z). This tells Python to represent this object in the following format: (x, y, z). Then create a variable named my_point containing a new instance of Point3D with x=1, y=2, and z=3 and print it."
      ]
    },
    {
      "cell_type": "code",
      "metadata": {
        "colab": {
          "base_uri": "https://localhost:8080/"
        },
        "id": "-4HIXDStz7eQ",
        "outputId": "6921b8b0-44df-46f5-9b48-0a91994bd6e9"
      },
      "source": [
        "class Point3D:\n",
        "  def __init__(self,x,y,z):\n",
        "    self.x=x\n",
        "    self.y=y\n",
        "    self.z=z\n",
        "  def __repr__(self):\n",
        "    return \"(%d,%d,%d)\" % (self.x,self.y,self.z)\n",
        "my_point = Point3D(1,2,3)\n",
        "print (my_point)"
      ],
      "execution_count": null,
      "outputs": [
        {
          "output_type": "stream",
          "text": [
            "(1,2,3)\n"
          ],
          "name": "stdout"
        }
      ]
    },
    {
      "cell_type": "markdown",
      "metadata": {
        "id": "IesqnTmC4bHI"
      },
      "source": [
        "Write a Python class named Rectangle constructed by a length and width. Define two methods area and perimeter which will compute the area and the perimeter of the rectangle. Then create a variable named my_rectangle containing a new instance of Rectangle with width=3 and length = 4 and compute both of area and perimeter ( the area is expected to be 3*4=12 and perimeter 2*(3+4)=14)"
      ]
    },
    {
      "cell_type": "code",
      "metadata": {
        "colab": {
          "base_uri": "https://localhost:8080/"
        },
        "id": "pxwBGX_45R44",
        "outputId": "af15e726-2aa4-4b96-ffce-c12d4105f5a4"
      },
      "source": [
        "class rectangle:\n",
        "  def __init__(self,length,width):\n",
        "    self.length=length\n",
        "    self.width=width\n",
        "  def area(self):\n",
        "    return (self.length*self.width)\n",
        "  def perimeter(self):\n",
        "    return 2*(self.length+self.width)\n",
        "my_rectangle=rectangle(4,5)\n",
        "print(my_rectangle.area())\n",
        "print(my_rectangle.perimeter())"
      ],
      "execution_count": null,
      "outputs": [
        {
          "output_type": "stream",
          "text": [
            "20\n",
            "18\n"
          ],
          "name": "stdout"
        }
      ]
    },
    {
      "cell_type": "markdown",
      "metadata": {
        "id": "drokWciA7l3L"
      },
      "source": [
        "Write a Python  class named Circle constructed by its center O and radius r. Define two methods area and perimeter which will compute the area and the perimeter of the circle, and isInside() method of the class which allows to test whether a point A(x, y) belongs to the circle C(O, r) or not."
      ]
    },
    {
      "cell_type": "code",
      "metadata": {
        "colab": {
          "base_uri": "https://localhost:8080/"
        },
        "id": "zuzj3aF07ti6",
        "outputId": "076716f5-6bfe-4581-9168-c4bea42e700a"
      },
      "source": [
        "class ciricle:\n",
        "  def __init__(self,r):\n",
        "    self.r=r\n",
        "  def area (self):\n",
        "    return 3.14*self.r**2\n",
        "  def perimeter(self):\n",
        "    return 3.14*2*self.r\n",
        "my_circile=ciricle(8)\n",
        "print (my_circile.area()) \n",
        "print (my_circile.perimeter())\n",
        "def isInside(circle_x, circle_y, rad, x, y):\n",
        "    if ((x - circle_x) * (x - circle_x) +(y - circle_y) * (y - circle_y) <= rad * rad):\n",
        "        return True;\n",
        "    else:\n",
        "        return False;\n",
        "x = 5;\n",
        "y = 5;\n",
        "circle_x = 2;\n",
        "circle_y = 4;\n",
        "rad = 10;\n",
        "if(isInside(circle_x, circle_y, rad, x, y)):\n",
        "    print(\"Inside\");\n",
        "else:\n",
        "    print(\"Outside\");"
      ],
      "execution_count": 33,
      "outputs": [
        {
          "output_type": "stream",
          "text": [
            "200.96\n",
            "50.24\n",
            "Inside\n"
          ],
          "name": "stdout"
        }
      ]
    },
    {
      "cell_type": "markdown",
      "metadata": {
        "id": "0VsiQQKK6_VB"
      },
      "source": [
        "Suppose we want to model a bank account with support for deposit and withdraw operations. Let’s create a python class named bank defined by its balance. Define two methods deposit and withdraw to compute the new amount of each operation."
      ]
    },
    {
      "cell_type": "code",
      "metadata": {
        "colab": {
          "base_uri": "https://localhost:8080/"
        },
        "id": "afrpvJRM7GWG",
        "outputId": "7835658b-9954-4a13-e821-57adbb2bfbf2"
      },
      "source": [
        "class Bank_Account:\n",
        "    def __init__(self):\n",
        "        self.balance=0\n",
        "        print(\"Hello!!! Welcome to the Deposit & Withdrawal Machine\")\n",
        "    def deposit(self):\n",
        "        amount=float(input(\"Enter amount to be Deposited: \"))\n",
        "        self.balance += amount\n",
        "        print(\"\\n Amount Deposited:\",amount)\n",
        "    def withdraw(self):\n",
        "        amount = float(input(\"Enter amount to be Withdrawn: \"))\n",
        "        if self.balance>=amount:\n",
        "            self.balance-=amount\n",
        "            print(\"\\n You Withdrew:\", amount)\n",
        "        else:\n",
        "            print(\"\\n Insufficient balance  \")\n",
        "    def display(self):\n",
        "        print(\"\\n Net Available Balance=\",self.balance)\n",
        "s = Bank_Account()\n",
        "s.deposit()\n",
        "s.withdraw()\n",
        "s.display()"
      ],
      "execution_count": null,
      "outputs": [
        {
          "output_type": "stream",
          "text": [
            "Hello!!! Welcome to the Deposit & Withdrawal Machine\n"
          ],
          "name": "stdout"
        }
      ]
    }
  ]
}