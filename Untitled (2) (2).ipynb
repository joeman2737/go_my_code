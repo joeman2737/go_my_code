{
 "cells": [
  {
   "cell_type": "code",
   "execution_count": 10,
   "metadata": {
    "scrolled": true
   },
   "outputs": [
    {
     "name": "stdout",
     "output_type": "stream",
     "text": [
      "frist name:joe\n",
      "last name:man\n",
      "a Python program which accepts the user's first and last name man joe\n"
     ]
    }
   ],
   "source": [
    "y=input(\"frist name:\")\n",
    "x=input(\"last name:\")\n",
    "print(\"a Python program which accepts the user's first and last name\"+\" \"+x+\" \"+y)"
   ]
  },
  {
   "cell_type": "code",
   "execution_count": 11,
   "metadata": {},
   "outputs": [
    {
     "name": "stdout",
     "output_type": "stream",
     "text": [
      "615\n"
     ]
    }
   ],
   "source": [
    "a=int(5)\n",
    "n1=int(\"%s\"%(a))\n",
    "n2=int(\"%s%s\"%(a,a))\n",
    "n3=int(\"%s%s%s\"%(a,a,a))\n",
    "print (n1 + n2 + n3)"
   ]
  },
  {
   "cell_type": "code",
   "execution_count": 12,
   "metadata": {},
   "outputs": [
    {
     "name": "stdout",
     "output_type": "stream",
     "text": [
      "enter n :25\n",
      "25 is odd number.\n"
     ]
    }
   ],
   "source": [
    "n=int(input(\"enter n :\"))\n",
    "if (n%2==0) :\n",
    "    print (n,\"is even number.\")\n",
    "elif (n%2!=0) :\n",
    "    print (n,\"is odd number.\")"
   ]
  },
  {
   "cell_type": "code",
   "execution_count": 13,
   "metadata": {},
   "outputs": [
    {
     "name": "stdout",
     "output_type": "stream",
     "text": [
      "2030, 2065, 2100, 2135, 2170, 2205, 2240, 2275, 2310, 2345, 2380, 2415, 2450, 2485, 2520, 2555, 2590, 2625, 2660, 2695, 2730, 2765, 2800, 2835, 2870, 2905, 2940, 2975, 3010, 3045, 3080, 3115, 3150, 3185, "
     ]
    }
   ],
   "source": [
    "s_number=2000\n",
    "g_number=3200\n",
    "for i in range(s_number,g_number):\n",
    "    if (i%7==0 and i%5==0):\n",
    "        print (i,end=\", \")"
   ]
  },
  {
   "cell_type": "code",
   "execution_count": 14,
   "metadata": {
    "scrolled": true
   },
   "outputs": [
    {
     "name": "stdout",
     "output_type": "stream",
     "text": [
      "Enter a number: 8\n",
      "the factorial 8 is 40320\n"
     ]
    }
   ],
   "source": [
    "n=int(input(\"Enter a number: \"))\n",
    "factorial=1\n",
    "for i in range(n,0,-1):\n",
    "    factorial=factorial*i\n",
    "print (\"the factorial\",n,\"is\",factorial)"
   ]
  },
  {
   "cell_type": "code",
   "execution_count": 15,
   "metadata": {},
   "outputs": [
    {
     "name": "stdout",
     "output_type": "stream",
     "text": [
      "Enter Any String: hello team\n",
      " hlota\n"
     ]
    }
   ],
   "source": [
    "s=input(\"Enter Any String: \")\n",
    "s1=\" \"\n",
    "for i in range(0,len(s)):\n",
    "    if (i%2==0):\n",
    "        s1+=s[i]\n",
    "print (s1)"
   ]
  },
  {
   "cell_type": "code",
   "execution_count": 16,
   "metadata": {},
   "outputs": [
    {
     "name": "stdout",
     "output_type": "stream",
     "text": [
      "What is the total price you bought it for?500\n",
      "the total price after 50% off is:  250.0\n"
     ]
    }
   ],
   "source": [
    "p=float(input(\"What is the total price you bought it for?\"))\n",
    "if (p>=500):\n",
    "    print (\"the total price after 50% off is: \",p*0.5)\n",
    "elif (500>p>200):\n",
    "    print (\"the total price after 30% off is: \",p*0.7)\n",
    "elif (p<200):\n",
    "    print (\"the total price after 10% off is: \",p*0.9)"
   ]
  },
  {
   "cell_type": "code",
   "execution_count": null,
   "metadata": {},
   "outputs": [],
   "source": []
  }
 ],
 "metadata": {
  "kernelspec": {
   "display_name": "Python 3",
   "language": "python",
   "name": "python3"
  },
  "language_info": {
   "codemirror_mode": {
    "name": "ipython",
    "version": 3
   },
   "file_extension": ".py",
   "mimetype": "text/x-python",
   "name": "python",
   "nbconvert_exporter": "python",
   "pygments_lexer": "ipython3",
   "version": "3.7.4"
  }
 },
 "nbformat": 4,
 "nbformat_minor": 2
}
