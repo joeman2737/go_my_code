{
  "nbformat": 4,
  "nbformat_minor": 0,
  "metadata": {
    "colab": {
      "name": "Untitled1.ipynb",
      "provenance": [],
      "collapsed_sections": []
    },
    "kernelspec": {
      "name": "python3",
      "display_name": "Python 3"
    },
    "language_info": {
      "name": "python"
    }
  },
  "cells": [
    {
      "cell_type": "markdown",
      "metadata": {
        "id": "HwmwgufnwseT"
      },
      "source": [
        "Write a Python function to find the Max of three numbers.\n",
        "\n",
        "for example, the max of these three numbers 20, 35, 19 is 35"
      ]
    },
    {
      "cell_type": "code",
      "metadata": {
        "colab": {
          "base_uri": "https://localhost:8080/"
        },
        "id": "b8dncAlgwkfw",
        "outputId": "da519302-9a18-4b7f-ee23-8468147affd8"
      },
      "source": [
        "o=[20,35,19]\n",
        "o.sort()\n",
        "print (o[-1])"
      ],
      "execution_count": null,
      "outputs": [
        {
          "output_type": "stream",
          "text": [
            "35\n"
          ],
          "name": "stdout"
        }
      ]
    },
    {
      "cell_type": "markdown",
      "metadata": {
        "id": "yiYPBDnEylcX"
      },
      "source": [
        "Write a function calculation() such that it can accept two variables and calculate the addition and subtraction of it. And also it must return both addition and subtraction in a single return call\n",
        "\n",
        "For example:\n",
        "\n",
        "calculation(40, 10) should produce 50, 30"
      ]
    },
    {
      "cell_type": "code",
      "metadata": {
        "colab": {
          "base_uri": "https://localhost:8080/"
        },
        "id": "QBnTBFirywxi",
        "outputId": "dbda282f-29c3-494b-f8c7-8cac0d329644"
      },
      "source": [
        "x=int(input(\"enter maximum number :\"))\n",
        "y=int(input(\"enter minimum number :\"))\n",
        "print ((x+y),(\",\"),(x-y))"
      ],
      "execution_count": null,
      "outputs": [
        {
          "output_type": "stream",
          "text": [
            "enter maximum number :050\n",
            "enter minimum number :020\n",
            "70 , 30\n"
          ],
          "name": "stdout"
        }
      ]
    },
    {
      "cell_type": "markdown",
      "metadata": {
        "id": "aENOfk4E0hMd"
      },
      "source": [
        "* Write a function that sums the elements of a list of integers.\n",
        "* Write a function that multiplies the elements of an integer list.\n",
        "* Use the two functions to sum the elements whose position is an even number (0,2,4…) and multiply the rest.*italicized text*\n",
        "Hint: Consider extracting two lists from a first list "
      ]
    },
    {
      "cell_type": "code",
      "metadata": {
        "id": "v-vk22ZN0o_d",
        "colab": {
          "base_uri": "https://localhost:8080/"
        },
        "outputId": "ef7b1a92-5567-4068-8a3c-d040f4c2e31f"
      },
      "source": [
        "list1 = [11, 5, 17, 18, 23]\n",
        "total = 0\n",
        "for ele in range(0, len(list1)):\n",
        "    total = total + list1[ele]\n",
        "print(\"Sum of all elements in given list: \", total)\n",
        "def multiplyList(myList) :\n",
        "  result = 1\n",
        "  for x in myList:\n",
        "    result = result * x\n",
        "    return result\n",
        "list2 = [27, 37, 20, 5]\n",
        "print(\"multiply of all elements in given list: \",multiplyList(list2))\n",
        "#Use the two functions to sum the elements whose position is an even number (0,2,4…) and multiply the rest.italicized text\n",
        "a=0\n",
        "b=1\n",
        "c=0\n",
        "d=1\n",
        "for n in range(0,len(list1)):\n",
        "  if (list1[n]%2==0):\n",
        "    a+= list1[n]\n",
        "for t in range(0,len(list1)):\n",
        "  if (list1[t]%2!=0):\n",
        "    b*= list1[t]\n",
        "for m in range(0,len(list2)):\n",
        "  if (list2[m]%2==0):\n",
        "    c+= list2[m]\n",
        "for k in range(0,len(list2)):\n",
        "  if (list2[k]%2!=0):\n",
        "    d*= list2[k]\n",
        "print (a+c)\n",
        "print (b*d)"
      ],
      "execution_count": 110,
      "outputs": [
        {
          "output_type": "stream",
          "text": [
            "Sum of all elements in given list:  74\n",
            "multiply of all elements in given list:  27\n",
            "38\n",
            "107417475\n"
          ],
          "name": "stdout"
        }
      ]
    },
    {
      "cell_type": "markdown",
      "metadata": {
        "id": "1CAtvoHiFAst"
      },
      "source": [
        "Write a Python program that accepts a hyphen-separated sequence of words as input and prints the words in a hyphen-separated sequence after sorting them alphabetically.\n",
        "\n",
        "Sample Items : green-red-yellow-black-white\n",
        "\n",
        "Expected Result : black-green-red-white-yellow\n",
        "\n",
        "Hint : There's a split function to separate your input string into words and a sort function to sort."
      ]
    },
    {
      "cell_type": "code",
      "metadata": {
        "colab": {
          "base_uri": "https://localhost:8080/"
        },
        "id": "CH7MzTSPFCTp",
        "outputId": "8c308997-85c9-44f2-927b-4378d127f4a3"
      },
      "source": [
        "item= str(input(\"enter some words\")).split(',')\n",
        "x=[i for i in item]\n",
        "x.sort()\n",
        "print(','.join(x))"
      ],
      "execution_count": 48,
      "outputs": [
        {
          "output_type": "stream",
          "text": [
            "enter some wordsgreen,red,yellow,black,white\n",
            "black,green,red,white,yellow\n"
          ],
          "name": "stdout"
        }
      ]
    },
    {
      "cell_type": "markdown",
      "metadata": {
        "id": "LVnHoVrxVpXs"
      },
      "source": [
        "Write a function that calculates and prints the value according to the given formula: Q = Square root of [(2 * C * D)/H] Following are the fixed values of C and H: C is 50. H is 30. D is the variable whose values should be input to your program in a comma-separated sequence. Example Let us assume the following comma separated input sequence is given to the function: 100,150,180 The output of the program should be: 18,22,24 \n",
        "\n",
        "Hints: If the output received is in decimal form, it should be rounded off to its nearest value (for example, if the output received is 26.0, it should be printed as 26) In case of input data being supplied to the question, it should be assumed to be a console input. \n",
        " "
      ]
    },
    {
      "cell_type": "code",
      "metadata": {
        "colab": {
          "base_uri": "https://localhost:8080/"
        },
        "id": "yjGGnuFVWsii",
        "outputId": "d5eb4865-13d4-48bd-9cc7-d7a4871321be"
      },
      "source": [
        "import math\n",
        "c=50\n",
        "h=30\n",
        "value = []\n",
        "items=[x for x in input().split(',')]\n",
        "for d in items:\n",
        "    value.append(str(int(round(math.sqrt(2*c*float(d)/h)))))\n",
        "\n",
        "print(','.join(value))"
      ],
      "execution_count": 112,
      "outputs": [
        {
          "output_type": "stream",
          "text": [
            "100,150,180\n",
            "18,22,24\n"
          ],
          "name": "stdout"
        }
      ]
    }
  ]
}