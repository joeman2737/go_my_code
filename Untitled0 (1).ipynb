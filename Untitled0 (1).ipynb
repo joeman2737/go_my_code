{
  "nbformat": 4,
  "nbformat_minor": 0,
  "metadata": {
    "colab": {
      "name": "Untitled0.ipynb",
      "provenance": [],
      "collapsed_sections": []
    },
    "kernelspec": {
      "display_name": "Python 3",
      "name": "python3"
    },
    "language_info": {
      "name": "python"
    }
  },
  "cells": [
    {
      "cell_type": "markdown",
      "metadata": {
        "id": "Zz-9NsEYB3Gj"
      },
      "source": [
        "1. Write a Python program to read an entire text file.\n",
        "\n",
        "2. Write a Python program to read first n lines of a file.\n",
        "\n",
        "3. Write a Python program to read last n lines of a file\n",
        "\n",
        "4. Write a Python program that takes a text file as input and returns the number of words of a given text file.\n",
        "\n",
        "5. (bonus) Write a Python program to read last n lines of a file"
      ]
    },
    {
      "cell_type": "code",
      "metadata": {
        "colab": {
          "base_uri": "https://localhost:8080/"
        },
        "id": "sdOW9uipGNnT",
        "outputId": "8357e1f4-c85d-41f2-e213-963144227a81"
      },
      "source": [
        "file1 = open(\"text.txt\",'w')\n",
        "L = [\"This is Delhi \\n\",\"This is Paris \\n\",\"This is London \\n\"]\n",
        "file1.write(\"Hello \\n\")\n",
        "file1.writelines(L)\n",
        "file1.close()\n",
        "\n",
        "file1=open(\"text.txt\",'r+')\n",
        "print(\"output of read an entire text file \\n\")\n",
        "print(file1.read())\n",
        "\n",
        "file1.seek(0)\n",
        "\n",
        "print(\"output of read first n lines of a file \\n\")\n",
        "firstlines=3\n",
        "for i in range(firstlines):\n",
        "  lines1 = file1.readline()\n",
        "  print(lines1)\n",
        "\n",
        "file1.seek(0)\n",
        "\n",
        "print(\"output of read last n lines of a file \\n\")\n",
        "lines = file1.readlines()\n",
        "lastlines = lines[-3:]\n",
        "print(lastlines)\n",
        "\n",
        "file1.seek(0)\n",
        "\n",
        "file1=open(\"text.txt\", \"rt\")\n",
        "data = file1.read()\n",
        "words = data.split()\n",
        "print('\\n Number of words in text file :', len(words))\n",
        "\n",
        "file1.seek(0)\n",
        "\n",
        "print(\"\\n out put for read last lines in text file \\n\")\n",
        "lines = file1.readlines()\n",
        "lastlines = lines[-3:]\n",
        "print(lastlines, end=\",\")\n",
        "\n",
        "file1.close\n",
        "\n",
        "print(\"\\n\\n\\n i finished this checkpoint \\n\\n\", \"Joe Man\")"
      ],
      "execution_count": 94,
      "outputs": [
        {
          "output_type": "stream",
          "text": [
            "output of read an entire text file \n",
            "\n",
            "Hello \n",
            "This is Delhi \n",
            "This is Paris \n",
            "This is London \n",
            "\n",
            "output of read first n lines of a file \n",
            "\n",
            "Hello \n",
            "\n",
            "This is Delhi \n",
            "\n",
            "This is Paris \n",
            "\n",
            "output of read last n lines of a file \n",
            "\n",
            "['This is Delhi \\n', 'This is Paris \\n', 'This is London \\n']\n",
            "\n",
            " Number of words in text file : 10\n",
            "\n",
            " out put for read last lines in text file \n",
            "\n",
            "['This is Delhi \\n', 'This is Paris \\n', 'This is London \\n'],\n",
            "\n",
            "\n",
            " i finished this checkpoint \n",
            "\n",
            " Joe Man\n"
          ],
          "name": "stdout"
        }
      ]
    }
  ]
}