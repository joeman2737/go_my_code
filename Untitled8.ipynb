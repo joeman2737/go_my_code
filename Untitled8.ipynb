{
  "nbformat": 4,
  "nbformat_minor": 0,
  "metadata": {
    "colab": {
      "name": "Untitled8.ipynb",
      "provenance": []
    },
    "kernelspec": {
      "name": "python3",
      "display_name": "Python 3"
    },
    "language_info": {
      "name": "python"
    }
  },
  "cells": [
    {
      "cell_type": "markdown",
      "metadata": {
        "id": "DTb1y4ke4zwD"
      },
      "source": [
        "#1. Write a Python program for binary search.\n",
        "\n",
        "Test Data :\n",
        "\n",
        "binary_search([1,2,3,5,8], 6) -> False\n",
        "\n",
        "binary_search([1,2,3,5,8], 5) -> True"
      ]
    },
    {
      "cell_type": "code",
      "metadata": {
        "colab": {
          "base_uri": "https://localhost:8080/"
        },
        "id": "tUTfpnZp4ypv",
        "outputId": "b0c0e2d0-e6d7-4225-f211-94dfc9dab03b"
      },
      "source": [
        "def binary_search(sequence,item):\n",
        "  begin_index = 0\n",
        "  end_index = len(sequence)-1\n",
        "  while begin_index <= end_index:\n",
        "    mid = begin_index + (end_index - begin_index) // 2\n",
        "    mid_value = sequence[mid]\n",
        "    if mid_value == item:\n",
        "      return True\n",
        "    elif item < mid_value:\n",
        "      end_index = mid - 1\n",
        "    else:\n",
        "      begin_index = mid + 1\n",
        "  return False\n",
        "print(binary_search([1,2,3,5,8], 6))\n",
        "print(binary_search([1,2,3,5,8], 5))"
      ],
      "execution_count": 6,
      "outputs": [
        {
          "output_type": "stream",
          "text": [
            "False\n",
            "True\n"
          ],
          "name": "stdout"
        }
      ]
    },
    {
      "cell_type": "markdown",
      "metadata": {
        "id": "jE3VUbfA8vvx"
      },
      "source": [
        "# 2. Write a Python program to calculate the value of 'a' to the power 'b'.\n",
        "\n",
        "Test Data : \n",
        "\n",
        "(power(3,4) -> 81"
      ]
    },
    {
      "cell_type": "code",
      "metadata": {
        "colab": {
          "base_uri": "https://localhost:8080/"
        },
        "id": "Na01vA3x8zOc",
        "outputId": "568bd7b2-8b88-4a56-9635-f84506c74138"
      },
      "source": [
        "def power(a,b):\n",
        "  if b == 0:\n",
        "    return False\n",
        "  else:\n",
        "    return a**b\n",
        "print(\"power(3,4)\",\"->\",power(3,4))"
      ],
      "execution_count": 10,
      "outputs": [
        {
          "output_type": "stream",
          "text": [
            "power(3,4) -> 81\n"
          ],
          "name": "stdout"
        }
      ]
    },
    {
      "cell_type": "markdown",
      "metadata": {
        "id": "LiMl0M_P-6YH"
      },
      "source": [
        "# 3. Write a Python program to sort a list of elements using the bubble sort algorithm.\n",
        "Sample Data: [29,13,22,37,52,49,46,71,56]\n",
        "\n",
        " Result: [13, 22, 29, 37, 42, 46, 49, 56, 71]"
      ]
    },
    {
      "cell_type": "code",
      "metadata": {
        "colab": {
          "base_uri": "https://localhost:8080/"
        },
        "id": "iPVVyEI5_Oow",
        "outputId": "c0799276-47bb-433c-e9fe-6ee632a42324"
      },
      "source": [
        "def bubble_sort(n_list):\n",
        "  for n in range(len(n_list)-1,0,-1):\n",
        "    for i in range(n):\n",
        "      if n_list[i]>n_list[i+1]:\n",
        "        t =n_list[i]\n",
        "        n_list[i]=n_list[i+1]\n",
        "        n_list[i+1]=t\n",
        "    return n_list\n",
        "n_list=[29,13,22,37,52,49,46,71,56]\n",
        "bubble_sort(n_list)"
      ],
      "execution_count": 12,
      "outputs": [
        {
          "output_type": "execute_result",
          "data": {
            "text/plain": [
              "[13, 22, 29, 37, 49, 46, 52, 56, 71]"
            ]
          },
          "metadata": {},
          "execution_count": 12
        }
      ]
    },
    {
      "cell_type": "markdown",
      "metadata": {
        "id": "VKu1X_E6CTXK"
      },
      "source": [
        "# 4. Write a Python program to sort a list of elements using the merge sort algorithm.\n",
        "\n",
        "Sample Data: [29,13,22,37,52,49,46,71,56]\n",
        "\n",
        "**Expected** Result: [13, 22, 29, 37, 42, 46, 49, 56, 71]"
      ]
    },
    {
      "cell_type": "code",
      "metadata": {
        "colab": {
          "base_uri": "https://localhost:8080/"
        },
        "id": "4dvZyWKjCc6w",
        "outputId": "22aea8ac-0397-42f2-a264-31d4acd6f1b4"
      },
      "source": [
        "def mergeSort(myList):\n",
        "    if len(myList) > 1:\n",
        "        mid = len(myList) // 2\n",
        "        left = myList[:mid]\n",
        "        right = myList[mid:]\n",
        "        mergeSort(left)\n",
        "        mergeSort(right)\n",
        "        i = 0\n",
        "        j = 0\n",
        "        k = 0\n",
        "        while i < len(left) and j < len(right):\n",
        "            if left[i] < right[j]:\n",
        "              myList[k] = left[i]\n",
        "              i += 1\n",
        "            else:\n",
        "                myList[k] = right[j]\n",
        "                j += 1\n",
        "            k += 1\n",
        "        while i < len(left):\n",
        "            myList[k] = left[i]\n",
        "            i += 1\n",
        "            k += 1\n",
        "        while j < len(right):\n",
        "            myList[k]=right[j]\n",
        "            j += 1\n",
        "            k += 1\n",
        "mylist=[29,13,22,37,52,49,46,71,56]\n",
        "mergeSort(mylist)\n",
        "print(mylist)"
      ],
      "execution_count": 22,
      "outputs": [
        {
          "output_type": "stream",
          "text": [
            "[13, 22, 29, 37, 46, 49, 52, 56, 71]\n"
          ],
          "name": "stdout"
        }
      ]
    },
    {
      "cell_type": "markdown",
      "metadata": {
        "id": "1u5ZlbJKHwe-"
      },
      "source": [
        "#  5. Write a Python program to sort a list of elements using the quick sort algorithm.\n",
        "\n",
        "Sample Data: [29,13,22,37,52,49,46,71,56]\n",
        "\n",
        "**Expected Result**: [13, 22, 29, 37, 42, 46, 49, 56, 71]\n",
        "\n",
        " "
      ]
    },
    {
      "cell_type": "code",
      "metadata": {
        "colab": {
          "base_uri": "https://localhost:8080/"
        },
        "id": "VqyyG1d0QpRm",
        "outputId": "75bab672-1475-47fc-ee37-dad205ac315b"
      },
      "source": [
        "def quickSort(alist):\n",
        "   quickSortHelper(alist,0,len(alist)-1)\n",
        "def quickSortHelper(alist,first,last):\n",
        "   if first<last:\n",
        "       splitpoint = partition(alist,first,last)\n",
        "       quickSortHelper(alist,first,splitpoint-1)\n",
        "       quickSortHelper(alist,splitpoint+1,last)\n",
        "def partition(alist,first,last):\n",
        "   pivotvalue = alist[first]\n",
        "   leftmark = first+1\n",
        "   rightmark = last\n",
        "   done = False\n",
        "   while not done:\n",
        "       while leftmark <= rightmark and alist[leftmark] <= pivotvalue:\n",
        "           leftmark = leftmark + 1\n",
        "       while alist[rightmark] >= pivotvalue and rightmark >= leftmark:\n",
        "           rightmark = rightmark -1\n",
        "       if rightmark < leftmark:\n",
        "           done = True\n",
        "       else:\n",
        "           temp = alist[leftmark]\n",
        "           alist[leftmark] = alist[rightmark]\n",
        "           alist[rightmark] = temp\n",
        "   temp = alist[first]\n",
        "   alist[first] = alist[rightmark]\n",
        "   alist[rightmark] = temp\n",
        "   return rightmark\n",
        "alist = [29,13,22,37,52,49,46,71,56]\n",
        "quickSort(alist)\n",
        "print(alist)"
      ],
      "execution_count": 33,
      "outputs": [
        {
          "output_type": "stream",
          "text": [
            "[13, 22, 29, 37, 46, 49, 52, 56, 71]\n"
          ],
          "name": "stdout"
        }
      ]
    }
  ]
}