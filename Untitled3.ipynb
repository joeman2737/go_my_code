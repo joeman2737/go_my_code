{
  "nbformat": 4,
  "nbformat_minor": 0,
  "metadata": {
    "colab": {
      "name": "Untitled3.ipynb",
      "provenance": [],
      "collapsed_sections": []
    },
    "kernelspec": {
      "name": "python3",
      "display_name": "Python 3"
    },
    "language_info": {
      "name": "python"
    }
  },
  "cells": [
    {
      "cell_type": "markdown",
      "metadata": {
        "id": "zTOFEh85rUR0"
      },
      "source": [
        "Write a Python program to convert an array to an ordinary list with the same items.\n",
        "\n",
        "we can use the np.tolist() function"
      ]
    },
    {
      "cell_type": "code",
      "metadata": {
        "colab": {
          "base_uri": "https://localhost:8080/"
        },
        "id": "6cIwIkQJrO4T",
        "outputId": "112abdac-644d-4d3a-9c34-47df4054e7e2"
      },
      "source": [
        "import numpy as np\n",
        "a= np.arange(10).reshape(2,5)\n",
        "a.tolist()"
      ],
      "execution_count": null,
      "outputs": [
        {
          "output_type": "execute_result",
          "data": {
            "text/plain": [
              "[[0, 1, 2, 3, 4], [5, 6, 7, 8, 9]]"
            ]
          },
          "metadata": {
            "tags": []
          },
          "execution_count": 13
        }
      ]
    },
    {
      "cell_type": "markdown",
      "metadata": {
        "id": "5YY0k7rl3tIw"
      },
      "source": [
        "Write a NumPy program to compute the sum of the diagonal elements of a given array.\n",
        "\n",
        "Hint: Two methods to solve this problem: 1. manually(without direct function). 2. using the trace function"
      ]
    },
    {
      "cell_type": "code",
      "metadata": {
        "colab": {
          "base_uri": "https://localhost:8080/"
        },
        "id": "HfilWVIy4AWe",
        "outputId": "ce179718-6d7b-4fe1-deb4-1c584b8aa67c"
      },
      "source": [
        "import numpy as np\n",
        "x=np.array([1.2],dtype=np.float64)\n",
        "y=np.array([3,4],dtype=np.float64)\n",
        "z=x+y\n",
        "z "
      ],
      "execution_count": null,
      "outputs": [
        {
          "output_type": "execute_result",
          "data": {
            "text/plain": [
              "array([4.2, 5.2])"
            ]
          },
          "metadata": {
            "tags": []
          },
          "execution_count": 10
        }
      ]
    },
    {
      "cell_type": "markdown",
      "metadata": {
        "id": "LdUsyE9f5Ek7"
      },
      "source": [
        "Given an array of your choice, get all the values higher than X :\n",
        "\n",
        "if a = [[1,2],[3,5]] and x = 2 :  then 3 and 5 are higher than 2. \n",
        "\n",
        "\n"
      ]
    },
    {
      "cell_type": "code",
      "metadata": {
        "colab": {
          "base_uri": "https://localhost:8080/"
        },
        "id": "hHPsqtXY5EOw",
        "outputId": "9757c0ba-0d9a-4ec3-c6f4-78af2509231c"
      },
      "source": [
        "import numpy as np\n",
        "a=np.array([[1,2],[3,5]])\n",
        "x=int (input(\"enter number :\"))\n",
        "if x<a[0,0]:\n",
        "  print(a[0,0])\n",
        "if x<a[0,1]:\n",
        "  print(a[0,1])\n",
        "if x<a[1,0]:\n",
        "  print(a[1,0])\n",
        "if x<a[1,1]:\n",
        "  print(a[1,1])"
      ],
      "execution_count": 71,
      "outputs": [
        {
          "output_type": "stream",
          "text": [
            "enter number :2\n",
            "3\n",
            "5\n"
          ],
          "name": "stdout"
        }
      ]
    },
    {
      "cell_type": "markdown",
      "metadata": {
        "id": "wOvF1jtI8EvK"
      },
      "source": [
        "Given two arrays A&B having the same shape. \n",
        "\n",
        "The task is to apply addition by hand: C is the new array. \n"
      ]
    },
    {
      "cell_type": "code",
      "metadata": {
        "colab": {
          "base_uri": "https://localhost:8080/"
        },
        "id": "35BlVWmd8D73",
        "outputId": "e15a5f58-627a-46dc-a189-2a158216209f"
      },
      "source": [
        "import numpy as np\n",
        "a=np.array([1,2,3])\n",
        "b=np.array([4,5,6])\n",
        "c=np.add (a,b)\n",
        "c "
      ],
      "execution_count": 80,
      "outputs": [
        {
          "output_type": "execute_result",
          "data": {
            "text/plain": [
              "array([5, 7, 9])"
            ]
          },
          "metadata": {
            "tags": []
          },
          "execution_count": 80
        }
      ]
    },
    {
      "cell_type": "markdown",
      "metadata": {
        "id": "mBoVyHgX87yi"
      },
      "source": [
        "Write a NumPy program to subtract the mean of each row of a given matrix.\n",
        "\n",
        "Hint: use the mean function\n",
        "\n",
        " \n",
        " "
      ]
    },
    {
      "cell_type": "code",
      "metadata": {
        "colab": {
          "base_uri": "https://localhost:8080/"
        },
        "id": "jbYLyBZY87i4",
        "outputId": "5b922c28-9b90-4151-83fe-3dd43066be86"
      },
      "source": [
        "import numpy as np\n",
        "a=np.array([[1,2,3],[4,5,6]])\n",
        "b=np.array([[7,8,9],[10,11,12]])\n",
        "k=np.mean(a,axis=1)\n",
        "g=np.mean(b,axis=1)\n",
        "g-k"
      ],
      "execution_count": null,
      "outputs": [
        {
          "output_type": "execute_result",
          "data": {
            "text/plain": [
              "array([6., 6.])"
            ]
          },
          "metadata": {
            "tags": []
          },
          "execution_count": 47
        }
      ]
    },
    {
      "cell_type": "code",
      "metadata": {
        "id": "T268FCMTAxAi"
      },
      "source": [
        ""
      ],
      "execution_count": null,
      "outputs": []
    }
  ]
}