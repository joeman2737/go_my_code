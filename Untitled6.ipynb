{
  "nbformat": 4,
  "nbformat_minor": 0,
  "metadata": {
    "colab": {
      "name": "Untitled6.ipynb",
      "provenance": [],
      "collapsed_sections": []
    },
    "kernelspec": {
      "name": "python3",
      "display_name": "Python 3"
    },
    "language_info": {
      "name": "python"
    }
  },
  "cells": [
    {
      "cell_type": "markdown",
      "metadata": {
        "id": "ryD_3jTNnpZs"
      },
      "source": [
        ""
      ]
    },
    {
      "cell_type": "code",
      "metadata": {
        "colab": {
          "base_uri": "https://localhost:8080/"
        },
        "id": "-vpORuurnLK1",
        "outputId": "ff707417-0160-4fd9-b67e-fc3565b63996"
      },
      "source": [
        "file1=open(\"/content/python.txt\",'r+')\n",
        "print(\"output of read an entire text file \\n\")\n",
        "print(file1.read())\n",
        "\n",
        "file1.seek(0)\n",
        "\n",
        "print(\"output of read first n lines of a file \\n\")\n",
        "firstlines=3\n",
        "for i in range(firstlines):\n",
        "  lines1 = file1.readline()\n",
        "  print(lines1)\n",
        "\n",
        "file1.seek(0)\n",
        "\n",
        "print(\"output of read last n lines of a file \\n\")\n",
        "lines = file1.readlines()\n",
        "lastlines = lines[-3:]\n",
        "print(lastlines)\n",
        "\n",
        "file1.seek(0)\n",
        "\n",
        "file1=open(\"/content/python.txt\", \"rt\")\n",
        "data = file1.read()\n",
        "words = data.split()\n",
        "print('\\n Number of words in text file :', len(words))\n",
        "\n",
        "file1.seek(0)\n",
        "\n",
        "print(\"\\n out put for read last lines in text file \\n\")\n",
        "lines = file1.readlines()\n",
        "lastlines = lines[-3:]\n",
        "print(lastlines, end=\",\")\n",
        "\n",
        "file1.close\n",
        "\n",
        "print(\"\\n\\n\\n i finished this checkpoint \\n\\n\", \"Joe Man\")"
      ],
      "execution_count": null,
      "outputs": [
        {
          "output_type": "stream",
          "text": [
            "output of read an entire text file \n",
            "\n",
            "What is Python language?                                                \n",
            "Python is a widely used high-level, general-purpose, interpreted, dynamic programming language.Its design philosophy emphasizes code readability, and its syntax allows programmers to express concepts in fewer lines of code than possible in \n",
            "languages such as C++ or Java. \n",
            "Python supports multiple programming paradigms, including object-oriented, imperative and functional programming or procedural styles. It features a dynamic type system and automatic memory management and has a large and comprehensive standard library.The best way we learn anything is by practice and exercise questions. We  have started this section for those (beginner to intermediate) who are familiar with Python.\n",
            "output of read first n lines of a file \n",
            "\n",
            "What is Python language?                                                \n",
            "\n",
            "Python is a widely used high-level, general-purpose, interpreted, dynamic programming language.Its design philosophy emphasizes code readability, and its syntax allows programmers to express concepts in fewer lines of code than possible in \n",
            "\n",
            "languages such as C++ or Java. \n",
            "\n",
            "output of read last n lines of a file \n",
            "\n",
            "['Python is a widely used high-level, general-purpose, interpreted, dynamic programming language.Its design philosophy emphasizes code readability, and its syntax allows programmers to express concepts in fewer lines of code than possible in \\n', 'languages such as C++ or Java. \\n', 'Python supports multiple programming paradigms, including object-oriented, imperative and functional programming or procedural styles. It features a dynamic type system and automatic memory management and has a large and comprehensive standard library.The best way we learn anything is by practice and exercise questions. We  have started this section for those (beginner to intermediate) who are familiar with Python.']\n",
            "\n",
            " Number of words in text file : 100\n",
            "\n",
            " out put for read last lines in text file \n",
            "\n",
            "['Python is a widely used high-level, general-purpose, interpreted, dynamic programming language.Its design philosophy emphasizes code readability, and its syntax allows programmers to express concepts in fewer lines of code than possible in \\n', 'languages such as C++ or Java. \\n', 'Python supports multiple programming paradigms, including object-oriented, imperative and functional programming or procedural styles. It features a dynamic type system and automatic memory management and has a large and comprehensive standard library.The best way we learn anything is by practice and exercise questions. We  have started this section for those (beginner to intermediate) who are familiar with Python.'],\n",
            "\n",
            "\n",
            " i finished this checkpoint \n",
            "\n",
            " Joe Man\n"
          ],
          "name": "stdout"
        }
      ]
    }
  ]
}