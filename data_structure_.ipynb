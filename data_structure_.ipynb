{
  "nbformat": 4,
  "nbformat_minor": 0,
  "metadata": {
    "colab": {
      "name": "data structure .ipynb",
      "provenance": []
    },
    "kernelspec": {
      "name": "python3",
      "display_name": "Python 3"
    },
    "language_info": {
      "name": "python"
    }
  },
  "cells": [
    {
      "cell_type": "markdown",
      "metadata": {
        "id": "RlEC-6uA1PTL"
      },
      "source": [
        "Write a Python program to multiplies all the items in a list.\n",
        "\n",
        "for example list=[2, 3, 6]\n",
        "\n",
        "result = 36"
      ]
    },
    {
      "cell_type": "code",
      "metadata": {
        "id": "qVG-qqGt_9gH",
        "colab": {
          "base_uri": "https://localhost:8080/"
        },
        "outputId": "b8ee733c-e05d-403a-b3dd-8ccf2cf4ec1e"
      },
      "source": [
        "My_List=[2,3,6]\n",
        "result=1\n",
        "for x in My_List:\n",
        "  result *= x\n",
        "print (result)"
      ],
      "execution_count": null,
      "outputs": [
        {
          "output_type": "stream",
          "text": [
            "36\n"
          ],
          "name": "stdout"
        }
      ]
    },
    {
      "cell_type": "markdown",
      "metadata": {
        "id": "p5bo5eRM5mft"
      },
      "source": [
        "Write a Python program to multiplies all the items in a list.\n",
        "\n",
        "for example list=[2, 3, 6]\n",
        "\n",
        "result = 36"
      ]
    },
    {
      "cell_type": "code",
      "metadata": {
        "colab": {
          "base_uri": "https://localhost:8080/"
        },
        "id": "Ixx-kLfV27ws",
        "outputId": "1e70cc61-1d08-42cb-d2d9-52293a3379b5"
      },
      "source": [
        "import numpy\n",
        "My_List=[2,3,6]\n",
        "result=numpy.prod(My_List)\n",
        "result"
      ],
      "execution_count": null,
      "outputs": [
        {
          "output_type": "execute_result",
          "data": {
            "text/plain": [
              "36"
            ]
          },
          "metadata": {
            "tags": []
          },
          "execution_count": 5
        }
      ]
    },
    {
      "cell_type": "markdown",
      "metadata": {
        "id": "8Xl-z6O85njP"
      },
      "source": [
        "Write a Python program to get a list, sorted in increasing order by the last element in each tuple from a given list of non-empty tuples.\n",
        "Sample List : [(2, 5), (1, 2), (4, 4), (2, 3), (2, 1)]\n",
        "Expected Result : [(2, 1), (1, 2), (2, 3), (4, 4), (2, 5)]\n",
        "\n",
        "Hint: You can use sort function"
      ]
    },
    {
      "cell_type": "code",
      "metadata": {
        "colab": {
          "base_uri": "https://localhost:8080/"
        },
        "id": "LCuE5Mww5R5U",
        "outputId": "5a75a226-0411-4365-af95-309bc1f7136f"
      },
      "source": [
        "List=[(2, 5), (1, 2), (4, 4), (2, 3), (2, 1)]\n",
        "List.sort()\n",
        "import operator\n",
        "List.sort(key=operator.itemgetter(1))\n",
        "List"
      ],
      "execution_count": null,
      "outputs": [
        {
          "output_type": "execute_result",
          "data": {
            "text/plain": [
              "[(2, 1), (1, 2), (2, 3), (4, 4), (2, 5)]"
            ]
          },
          "metadata": {
            "tags": []
          },
          "execution_count": 25
        }
      ]
    },
    {
      "cell_type": "markdown",
      "metadata": {
        "id": "dXJoCbDCD1g3"
      },
      "source": [
        "Write a Python program to combine two dictionary adding values for common keys.\n",
        "\n",
        "d1 = {'a': 100, 'b': 200, 'c':300}\n",
        "d2 = {'a': 300, 'b': 200, 'd':400}\n",
        "Expected output: {'a': 400, 'b': 400, 'd': 400, 'c': 300}"
      ]
    },
    {
      "cell_type": "code",
      "metadata": {
        "colab": {
          "base_uri": "https://localhost:8080/"
        },
        "id": "-O2UgYxMEB3k",
        "outputId": "712a870b-87bb-469d-8ead-3de03e00cbf8"
      },
      "source": [
        "d1 = {'a': 100, 'b': 200, 'c':300}\n",
        "d2 = {'a': 300, 'b': 200, 'd':400}\n",
        "for key in d1:\n",
        "  if key in d2:\n",
        "    d2[key]+=d1[key]\n",
        "  else:\n",
        "    d2[key]=d1[key]\n",
        "print (d2)"
      ],
      "execution_count": null,
      "outputs": [
        {
          "output_type": "stream",
          "text": [
            "{'a': 400, 'b': 400, 'd': 400, 'c': 300}\n"
          ],
          "name": "stdout"
        }
      ]
    },
    {
      "cell_type": "markdown",
      "metadata": {
        "id": "gPA1YjhXiFbb"
      },
      "source": [
        "Write a program to sort a tuple by its float element.\n",
        "For example list= [('item1', '12.20'), ('item2', '15.10'), ('item3', '24.5')]\n",
        "Expected Output: [('item3', '24.5'), ('item2', '15.10'), ('item1', '12.20')]"
      ]
    },
    {
      "cell_type": "code",
      "metadata": {
        "colab": {
          "base_uri": "https://localhost:8080/"
        },
        "id": "OCNzKrHfxff0",
        "outputId": "127031b4-00d9-4d96-b8ee-4d95b897ee5c"
      },
      "source": [
        "list= [('item1', '12.20'), ('item2', '15.10'), ('item3', '24.5')] \n",
        "print (sorted (list, key=lambda x:float (x[1]), reverse= True ))"
      ],
      "execution_count": null,
      "outputs": [
        {
          "output_type": "stream",
          "text": [
            "[('item3', '24.5'), ('item2', '15.10'), ('item1', '12.20')]\n"
          ],
          "name": "stdout"
        }
      ]
    },
    {
      "cell_type": "markdown",
      "metadata": {
        "id": "I5L8TnZq3sb7"
      },
      "source": [
        "Question: With a given integral number n, write a program to generate a dictionary that contains (i, i*i) such that is an integral number between 1 and n (both included). and then the program should print the dictionary. Suppose the following input is supplied to the program: 8 Then, the output should be: {1: 1, 2: 4, 3: 9, 4: 16, 5: 25, 6: 36, 7: 49, 8: 64}"
      ]
    },
    {
      "cell_type": "code",
      "metadata": {
        "colab": {
          "base_uri": "https://localhost:8080/"
        },
        "id": "fXrK24PD0-ro",
        "outputId": "f705d104-9673-4962-ef71-dbe0d7a04f47"
      },
      "source": [
        "number = int(input(\"Type a number: \"))\n",
        "numberDict = {}\n",
        "for i in range(1, number+1):\n",
        "    numberDict[i] = i*i\n",
        "print(numberDict)"
      ],
      "execution_count": null,
      "outputs": [
        {
          "output_type": "stream",
          "text": [
            "Type a number: 8\n",
            "{1: 1, 2: 4, 3: 9, 4: 16, 5: 25, 6: 36, 7: 49, 8: 64}\n"
          ],
          "name": "stdout"
        }
      ]
    }
  ]
}